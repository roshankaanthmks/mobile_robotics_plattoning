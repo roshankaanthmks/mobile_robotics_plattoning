{
 "cells": [
  {
   "cell_type": "code",
   "execution_count": null,
   "id": "ac9e28a2",
   "metadata": {},
   "outputs": [],
   "source": [
    "#!/usr/bin/env python\n",
    "\n",
    "import rospy\n",
    "from geometry_msgs.msg import Twist\n",
    "from nav_msgs.msg import Odometry\n",
    "import time\n",
    "\n",
    "y_p = 0;\n",
    "y_s = 0;\n",
    "t0 = time.time();\n",
    "tp = t0;\n",
    "\n",
    "def callback(msg, y_p, y_s, t0, tp):\n",
    "\n",
    "    Kp=1;\n",
    "    Kd=5;\n",
    "    Ki=1;\n",
    "    xm = msg.pose.pose.position.x\n",
    "    ym = msg.pose.pose.position.y\n",
    "    tm = time.time()\n",
    "    if xm<3:  \n",
    "        move_cmd.linear.x = 0.1\n",
    "        cmd_vel.publish(move_cmd)\n",
    "        if ym !=0:\n",
    "            y_s = y_s + ym*(tm-tp)\n",
    "            z_a = -(Kp*ym)-(Kd*(ym-y_p)/(tm-tp))-(Ki*y_s)\n",
    "            move_cmd.linear.x = 0.1\n",
    "            move_cmd.angular.z=z_a\n",
    "            cmd_vel.publish(move_cmd)        \n",
    "            y_p = ym\n",
    "            tp = tm\n",
    "            \n",
    "            rospy.loginfo('x_position: {}'.format(xm))\n",
    "            rospy.loginfo('y_position: {}'.format(ym))\n",
    "        xm = msg.pose.pose.position.x\n",
    "        ym = msg.pose.pose.position.y\n",
    "        \n",
    "    else:\n",
    "        move_cmd.linear.x=0\n",
    "        move_cmd.angular.z=0\n",
    "        cmd_vel.publish(move_cmd)\n",
    "    \n",
    "if __name__ == '__main__':\n",
    "    try:\n",
    "        rospy.init_node('MoveForward_PID')\n",
    "        move_cmd = Twist()\n",
    "        cmd_vel = rospy.Publisher('/cmd_vel', Twist, queue_size=10)\n",
    "        rospy.Subscriber(\"/odom\", Odometry, callback, y_p, y_s, t0, tp)\n",
    "        rospy.spin()\n",
    "        \n",
    "    except rospy.ROSInterruptException:\n",
    "        rospy.loginfo(\"Node terimated\")\n"
   ]
  }
 ],
 "metadata": {
  "kernelspec": {
   "display_name": "Python 3",
   "language": "python",
   "name": "python3"
  },
  "language_info": {
   "codemirror_mode": {
    "name": "ipython",
    "version": 3
   },
   "file_extension": ".py",
   "mimetype": "text/x-python",
   "name": "python",
   "nbconvert_exporter": "python",
   "pygments_lexer": "ipython3",
   "version": "3.8.8"
  }
 },
 "nbformat": 4,
 "nbformat_minor": 5
}
